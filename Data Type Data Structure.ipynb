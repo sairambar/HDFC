{
 "cells": [
  {
   "cell_type": "code",
   "execution_count": null,
   "id": "ffc67a7d",
   "metadata": {},
   "outputs": [],
   "source": [
    "Data Type:\n",
    "    type of data\n",
    "    \n",
    "    \n",
    "    number \n",
    "        1 .complete ---> without decimal point --> int\n",
    "        2.incomplete---> with decimal --> float\n",
    "    char/str\n",
    "        str ==\n",
    "1.int\n",
    "2.float\n",
    "3.str\n",
    "4.bool\n",
    "5.complex\n",
    "6.None\n"
   ]
  },
  {
   "cell_type": "code",
   "execution_count": 3,
   "id": "d4a0e352",
   "metadata": {},
   "outputs": [],
   "source": [
    "a = -45"
   ]
  },
  {
   "cell_type": "code",
   "execution_count": 4,
   "id": "2ed86227",
   "metadata": {},
   "outputs": [
    {
     "data": {
      "text/plain": [
       "int"
      ]
     },
     "execution_count": 4,
     "metadata": {},
     "output_type": "execute_result"
    }
   ],
   "source": [
    "type(a)"
   ]
  },
  {
   "cell_type": "code",
   "execution_count": null,
   "id": "7f91496a",
   "metadata": {},
   "outputs": [],
   "source": [
    "Notebook --> first page \n",
    "            general function"
   ]
  },
  {
   "cell_type": "code",
   "execution_count": null,
   "id": "8caad7a5",
   "metadata": {},
   "outputs": [],
   "source": [
    "type --> it is use to find variable data type"
   ]
  },
  {
   "cell_type": "code",
   "execution_count": 5,
   "id": "7aebe862",
   "metadata": {},
   "outputs": [],
   "source": [
    "a = 7.89"
   ]
  },
  {
   "cell_type": "code",
   "execution_count": 6,
   "id": "0312607d",
   "metadata": {},
   "outputs": [
    {
     "data": {
      "text/plain": [
       "float"
      ]
     },
     "execution_count": 6,
     "metadata": {},
     "output_type": "execute_result"
    }
   ],
   "source": [
    "type(a)"
   ]
  },
  {
   "cell_type": "code",
   "execution_count": null,
   "id": "6ba8f356",
   "metadata": {},
   "outputs": [],
   "source": [
    "char/str --> data --> ' ',\" \"\n",
    "\n",
    "\n",
    "a = 'Python'"
   ]
  },
  {
   "cell_type": "code",
   "execution_count": 7,
   "id": "8ca8d743",
   "metadata": {},
   "outputs": [],
   "source": [
    "a = 'Python'"
   ]
  },
  {
   "cell_type": "code",
   "execution_count": 8,
   "id": "703cee02",
   "metadata": {},
   "outputs": [
    {
     "data": {
      "text/plain": [
       "str"
      ]
     },
     "execution_count": 8,
     "metadata": {},
     "output_type": "execute_result"
    }
   ],
   "source": [
    "type(a)"
   ]
  },
  {
   "cell_type": "code",
   "execution_count": null,
   "id": "d0cad9fb",
   "metadata": {},
   "outputs": [],
   "source": [
    "Note:No char data type in Python"
   ]
  },
  {
   "cell_type": "code",
   "execution_count": 9,
   "id": "a2507300",
   "metadata": {},
   "outputs": [],
   "source": [
    "a = 'd'"
   ]
  },
  {
   "cell_type": "code",
   "execution_count": 10,
   "id": "a3f798ab",
   "metadata": {},
   "outputs": [
    {
     "data": {
      "text/plain": [
       "str"
      ]
     },
     "execution_count": 10,
     "metadata": {},
     "output_type": "execute_result"
    }
   ],
   "source": [
    "type(a)"
   ]
  },
  {
   "cell_type": "code",
   "execution_count": 11,
   "id": "beb43e33",
   "metadata": {},
   "outputs": [],
   "source": [
    "a = \"Java\""
   ]
  },
  {
   "cell_type": "code",
   "execution_count": 12,
   "id": "90a521ad",
   "metadata": {},
   "outputs": [
    {
     "data": {
      "text/plain": [
       "str"
      ]
     },
     "execution_count": 12,
     "metadata": {},
     "output_type": "execute_result"
    }
   ],
   "source": [
    "type(a)"
   ]
  },
  {
   "cell_type": "code",
   "execution_count": 13,
   "id": "6c1331c0",
   "metadata": {},
   "outputs": [],
   "source": [
    "a= \"sdagasdg54cvcdvbxcvbxcb\""
   ]
  },
  {
   "cell_type": "code",
   "execution_count": 14,
   "id": "f2337081",
   "metadata": {},
   "outputs": [
    {
     "data": {
      "text/plain": [
       "str"
      ]
     },
     "execution_count": 14,
     "metadata": {},
     "output_type": "execute_result"
    }
   ],
   "source": [
    "type(a)"
   ]
  },
  {
   "cell_type": "code",
   "execution_count": 15,
   "id": "425b6968",
   "metadata": {},
   "outputs": [],
   "source": [
    "a1 = \"234324dasgdafg345345\""
   ]
  },
  {
   "cell_type": "code",
   "execution_count": 16,
   "id": "e2174694",
   "metadata": {},
   "outputs": [
    {
     "data": {
      "text/plain": [
       "str"
      ]
     },
     "execution_count": 16,
     "metadata": {},
     "output_type": "execute_result"
    }
   ],
   "source": [
    "type(a1)"
   ]
  },
  {
   "cell_type": "code",
   "execution_count": 17,
   "id": "f9d2e352",
   "metadata": {},
   "outputs": [],
   "source": [
    "a2 = \"2324\""
   ]
  },
  {
   "cell_type": "code",
   "execution_count": 18,
   "id": "902c6ece",
   "metadata": {},
   "outputs": [
    {
     "data": {
      "text/plain": [
       "str"
      ]
     },
     "execution_count": 18,
     "metadata": {},
     "output_type": "execute_result"
    }
   ],
   "source": [
    "type(a2)"
   ]
  },
  {
   "cell_type": "code",
   "execution_count": null,
   "id": "44068625",
   "metadata": {},
   "outputs": [],
   "source": [
    "' '/\" \" --> data --> str"
   ]
  },
  {
   "cell_type": "code",
   "execution_count": null,
   "id": "60f134ac",
   "metadata": {},
   "outputs": [],
   "source": [
    "int\n",
    "float\n",
    "str\n"
   ]
  },
  {
   "cell_type": "code",
   "execution_count": null,
   "id": "0787616a",
   "metadata": {},
   "outputs": [],
   "source": [
    "with code\n",
    "\n",
    "concept --> if  -- > real time  -- where"
   ]
  },
  {
   "cell_type": "code",
   "execution_count": null,
   "id": "48dd1478",
   "metadata": {},
   "outputs": [],
   "source": [
    "bool --> True /False"
   ]
  },
  {
   "cell_type": "code",
   "execution_count": 19,
   "id": "9d811284",
   "metadata": {},
   "outputs": [],
   "source": [
    "a = 10\n"
   ]
  },
  {
   "cell_type": "code",
   "execution_count": 20,
   "id": "e5661530",
   "metadata": {},
   "outputs": [],
   "source": [
    "b = 20\n"
   ]
  },
  {
   "cell_type": "code",
   "execution_count": 21,
   "id": "a87dec69",
   "metadata": {},
   "outputs": [
    {
     "data": {
      "text/plain": [
       "False"
      ]
     },
     "execution_count": 21,
     "metadata": {},
     "output_type": "execute_result"
    }
   ],
   "source": [
    "a>b"
   ]
  },
  {
   "cell_type": "code",
   "execution_count": null,
   "id": "a36cc0bc",
   "metadata": {},
   "outputs": [],
   "source": [
    "True --> 1\n",
    "False --> 0"
   ]
  },
  {
   "cell_type": "code",
   "execution_count": 22,
   "id": "e8497bdc",
   "metadata": {},
   "outputs": [
    {
     "data": {
      "text/plain": [
       "2"
      ]
     },
     "execution_count": 22,
     "metadata": {},
     "output_type": "execute_result"
    }
   ],
   "source": [
    "True+True"
   ]
  },
  {
   "cell_type": "code",
   "execution_count": 23,
   "id": "7a688793",
   "metadata": {},
   "outputs": [
    {
     "data": {
      "text/plain": [
       "0"
      ]
     },
     "execution_count": 23,
     "metadata": {},
     "output_type": "execute_result"
    }
   ],
   "source": [
    "False+False"
   ]
  },
  {
   "cell_type": "code",
   "execution_count": 24,
   "id": "ecc28a00",
   "metadata": {},
   "outputs": [
    {
     "data": {
      "text/plain": [
       "1"
      ]
     },
     "execution_count": 24,
     "metadata": {},
     "output_type": "execute_result"
    }
   ],
   "source": [
    "True+False"
   ]
  },
  {
   "cell_type": "code",
   "execution_count": null,
   "id": "3c044569",
   "metadata": {},
   "outputs": [],
   "source": [
    "True/False --> bool data\n",
    "\n",
    "45  1616  6 16 16 1   int\n",
    "5.6416   float\n",
    "\n",
    "'sdfgsdg' --> str\n",
    "\n"
   ]
  },
  {
   "cell_type": "code",
   "execution_count": null,
   "id": "bb7b1378",
   "metadata": {},
   "outputs": [],
   "source": [
    "for/if/else/break --> keyword"
   ]
  },
  {
   "cell_type": "code",
   "execution_count": null,
   "id": "fb2bb461",
   "metadata": {},
   "outputs": [],
   "source": [
    "complex --> real+imgconstant"
   ]
  },
  {
   "cell_type": "code",
   "execution_count": 25,
   "id": "2ad5b324",
   "metadata": {},
   "outputs": [
    {
     "data": {
      "text/plain": [
       "(45+89j)"
      ]
     },
     "execution_count": 25,
     "metadata": {},
     "output_type": "execute_result"
    }
   ],
   "source": [
    "45+89j --"
   ]
  },
  {
   "cell_type": "code",
   "execution_count": 26,
   "id": "e504f008",
   "metadata": {},
   "outputs": [],
   "source": [
    "a = 10+11j"
   ]
  },
  {
   "cell_type": "code",
   "execution_count": 27,
   "id": "622231e9",
   "metadata": {},
   "outputs": [
    {
     "data": {
      "text/plain": [
       "complex"
      ]
     },
     "execution_count": 27,
     "metadata": {},
     "output_type": "execute_result"
    }
   ],
   "source": [
    "type(a)"
   ]
  },
  {
   "cell_type": "code",
   "execution_count": 31,
   "id": "a5ffe600",
   "metadata": {},
   "outputs": [],
   "source": [
    "temp = None # empty variable"
   ]
  },
  {
   "cell_type": "code",
   "execution_count": 29,
   "id": "5b659166",
   "metadata": {},
   "outputs": [],
   "source": [
    "temp"
   ]
  },
  {
   "cell_type": "code",
   "execution_count": 30,
   "id": "8ad7a5b8",
   "metadata": {},
   "outputs": [
    {
     "data": {
      "text/plain": [
       "NoneType"
      ]
     },
     "execution_count": 30,
     "metadata": {},
     "output_type": "execute_result"
    }
   ],
   "source": [
    "type(temp)"
   ]
  },
  {
   "cell_type": "code",
   "execution_count": 33,
   "id": "4a20b2cf",
   "metadata": {},
   "outputs": [],
   "source": [
    "t = None"
   ]
  },
  {
   "cell_type": "code",
   "execution_count": 34,
   "id": "99df024d",
   "metadata": {},
   "outputs": [],
   "source": [
    "t"
   ]
  },
  {
   "cell_type": "code",
   "execution_count": 35,
   "id": "b43d20fd",
   "metadata": {},
   "outputs": [],
   "source": [
    "pan = None"
   ]
  },
  {
   "cell_type": "code",
   "execution_count": null,
   "id": "d93b7968",
   "metadata": {},
   "outputs": [],
   "source": [
    "int\n",
    "float\n",
    "str\n",
    "bool\n",
    "complex\n",
    "None"
   ]
  }
 ],
 "metadata": {
  "kernelspec": {
   "display_name": "Python 3 (ipykernel)",
   "language": "python",
   "name": "python3"
  },
  "language_info": {
   "codemirror_mode": {
    "name": "ipython",
    "version": 3
   },
   "file_extension": ".py",
   "mimetype": "text/x-python",
   "name": "python",
   "nbconvert_exporter": "python",
   "pygments_lexer": "ipython3",
   "version": "3.9.12"
  }
 },
 "nbformat": 4,
 "nbformat_minor": 5
}
